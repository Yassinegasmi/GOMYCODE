{
 "cells": [
  {
   "cell_type": "code",
   "execution_count": null,
   "id": "7842bb22",
   "metadata": {},
   "outputs": [],
   "source": [
    "###ex 2:"
   ]
  },
  {
   "cell_type": "code",
   "execution_count": 25,
   "id": "2516961f",
   "metadata": {
    "scrolled": true
   },
   "outputs": [
    {
     "name": "stdout",
     "output_type": "stream",
     "text": [
      "donner n:\n",
      "None5\n",
      "615\n"
     ]
    }
   ],
   "source": [
    "n=int(input(print(\"donner n:\")))\n",
    "n=n+ n*11 + n*111\n",
    "print(n)"
   ]
  },
  {
   "cell_type": "code",
   "execution_count": null,
   "id": "316c76e5",
   "metadata": {},
   "outputs": [],
   "source": [
    "###ex3:"
   ]
  },
  {
   "cell_type": "code",
   "execution_count": 26,
   "id": "675ae965",
   "metadata": {
    "scrolled": false
   },
   "outputs": [
    {
     "name": "stdout",
     "output_type": "stream",
     "text": [
      "n=\n",
      "None147\n",
      "odd\n"
     ]
    }
   ],
   "source": [
    "n=int(input(print(\"n=\")))\n",
    "if n%2==0:\n",
    "    print(\"even\")\n",
    "else:\n",
    "    print(\"odd\")"
   ]
  },
  {
   "cell_type": "markdown",
   "id": "42f646f3",
   "metadata": {},
   "source": [
    "### ex4:"
   ]
  },
  {
   "cell_type": "code",
   "execution_count": 31,
   "id": "c3416126",
   "metadata": {
    "scrolled": true
   },
   "outputs": [
    {
     "name": "stdout",
     "output_type": "stream",
     "text": [
      "2002 2009 2016 2023 2037 2044 2051 2058 2072 2079 2086 2093 2107 2114 2121 2128 2142 2149 2156 2163 2177 2184 2191 2198 2212 2219 2226 2233 2247 2254 2261 2268 2282 2289 2296 2303 2317 2324 2331 2338 2352 2359 2366 2373 2387 2394 2401 2408 2422 2429 2436 2443 2457 2464 2471 2478 2492 2499 2506 2513 2527 2534 2541 2548 2562 2569 2576 2583 2597 2604 2611 2618 2632 2639 2646 2653 2667 2674 2681 2688 2702 2709 2716 2723 2737 2744 2751 2758 2772 2779 2786 2793 2807 2814 2821 2828 2842 2849 2856 2863 2877 2884 2891 2898 2912 2919 2926 2933 2947 2954 2961 2968 2982 2989 2996 3003 3017 3024 3031 3038 3052 3059 3066 3073 3087 3094 3101 3108 3122 3129 3136 3143 3157 3164 3171 3178 3192 3199 "
     ]
    }
   ],
   "source": [
    "for i in range(2000, 3201):\n",
    "    if (i%7==0) and (i%5!=0):\n",
    "        print(i,end=\" \") #end"
   ]
  },
  {
   "cell_type": "code",
   "execution_count": null,
   "id": "89b9bac2",
   "metadata": {},
   "outputs": [],
   "source": [
    "###ex5:"
   ]
  },
  {
   "cell_type": "markdown",
   "id": "031790d4",
   "metadata": {},
   "source": [
    "### def fact(x):\n",
    "    if x == 0:\n",
    "        return 1\n",
    "    return x *fact (x - 1)\n",
    "\n",
    "x=int(input())\n",
    "print(fact(x))\n"
   ]
  },
  {
   "cell_type": "markdown",
   "id": "795fd333",
   "metadata": {},
   "source": [
    "### ex6:"
   ]
  },
  {
   "cell_type": "code",
   "execution_count": null,
   "id": "5913d1f3",
   "metadata": {},
   "outputs": [],
   "source": [
    "def removeOddString(givenstrng):\n",
    "    \n",
    "    tempstng = \"\"\n",
    "    \n",
    "    for charindex in range(len(givenstrng)):\n",
    "        \n",
    "        if charindex % 2 == 0:\n",
    "            \n",
    "            tempstng = tempstng + givenstrng[charindex]\n",
    "    \n",
    "    return tempstng\n",
    "\n",
    "givenstrng = input(print(\"givenstrng:\"))\n",
    "\n",
    "print('The given string before modification = ', givenstrng)\n",
    "\n",
    "resstrng = removeOddString(givenstrng)\n",
    "\n",
    "print('The given string after modification = ', resstrng)"
   ]
  },
  {
   "cell_type": "code",
   "execution_count": null,
   "id": "f444b45c",
   "metadata": {},
   "outputs": [],
   "source": [
    "###ex1:"
   ]
  },
  {
   "cell_type": "code",
   "execution_count": null,
   "id": "eb237d94",
   "metadata": {},
   "outputs": [],
   "source": [
    "str1=input(print(\"your first name\"))\n",
    "str2=input(print(\"yourlast name\"))\n",
    "print(str2,\" \",str1)"
   ]
  },
  {
   "cell_type": "code",
   "execution_count": null,
   "id": "5200bfdb",
   "metadata": {},
   "outputs": [],
   "source": [
    "###ex7:"
   ]
  },
  {
   "cell_type": "code",
   "execution_count": 43,
   "id": "c9a5c1b1",
   "metadata": {
    "scrolled": true
   },
   "outputs": [
    {
     "name": "stdout",
     "output_type": "stream",
     "text": [
      "the price:10\n",
      "1.0\n"
     ]
    }
   ],
   "source": [
    "x=int (input(\"the price:\"))\n",
    "if x>500 :\n",
    "    print(x/2)\n",
    "if 200<=x<=500:\n",
    "    disc=x*0.3\n",
    "    print(disc)\n",
    "if x<200:\n",
    "    disc=x*0.1\n",
    "    print(disc)"
   ]
  },
  {
   "cell_type": "code",
   "execution_count": null,
   "id": "3a70b05e",
   "metadata": {},
   "outputs": [],
   "source": []
  },
  {
   "cell_type": "code",
   "execution_count": null,
   "id": "52df0f0e",
   "metadata": {},
   "outputs": [],
   "source": []
  },
  {
   "cell_type": "code",
   "execution_count": null,
   "id": "ab401865",
   "metadata": {},
   "outputs": [],
   "source": []
  }
 ],
 "metadata": {
  "kernelspec": {
   "display_name": "Python 3",
   "language": "python",
   "name": "python3"
  },
  "language_info": {
   "codemirror_mode": {
    "name": "ipython",
    "version": 3
   },
   "file_extension": ".py",
   "mimetype": "text/x-python",
   "name": "python",
   "nbconvert_exporter": "python",
   "pygments_lexer": "ipython3",
   "version": "3.8.8"
  }
 },
 "nbformat": 4,
 "nbformat_minor": 5
}
