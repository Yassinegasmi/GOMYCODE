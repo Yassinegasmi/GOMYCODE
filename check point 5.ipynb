{
 "cells": [
  {
   "cell_type": "code",
   "execution_count": null,
   "id": "a867f41f",
   "metadata": {},
   "outputs": [],
   "source": []
  },
  {
   "cell_type": "code",
   "execution_count": 72,
   "id": "be6169c9",
   "metadata": {},
   "outputs": [
    {
     "name": "stdout",
     "output_type": "stream",
     "text": [
      "1 2 3\n"
     ]
    }
   ],
   "source": [
    "class point3d:\n",
    "    def __init__(self,x,y,z):\n",
    "        self.x=x\n",
    "        self.y=y\n",
    "        self.z=z\n",
    "my_point = point3d(x=1,y=2,z=3)\n",
    "print(my_point.x, my_point.y, my_point.z)"
   ]
  },
  {
   "cell_type": "code",
   "execution_count": 146,
   "id": "08a5a109",
   "metadata": {},
   "outputs": [
    {
     "name": "stdout",
     "output_type": "stream",
     "text": [
      "longeur=4 largeur=3\n",
      "area=12\n"
     ]
    }
   ],
   "source": [
    "class rectangle:\n",
    "    def __init__(self,longeur,largeur):\n",
    "        self.longeur=longeur\n",
    "        self.largeur=largeur\n",
    "    def _rara__(self):\n",
    "        return \"longeur={} largeur={}\" .format(self.longeur, self.largeur)\n",
    "    def rectangle_area(self):\n",
    "        return \"area={}\"               .format(self.longeur*self.largeur)\n",
    "my_rectangle=rectangle(4,3)\n",
    "print(my_rectangle._rara__())\n",
    "print(my_rectangle.rectangle_area())"
   ]
  },
  {
   "cell_type": "code",
   "execution_count": 115,
   "id": "10cadcb5",
   "metadata": {},
   "outputs": [
    {
     "name": "stdout",
     "output_type": "stream",
     "text": [
      "50.24\n",
      "25.12\n"
     ]
    }
   ],
   "source": [
    "class Circle:\n",
    "    def __init__(self, rayon):\n",
    "        self.rayon = rayon\n",
    "\n",
    "    def area(self):\n",
    "        return self.rayon**2*3.14\n",
    "    \n",
    "    def perimeter(self):\n",
    "        return 2*self.rayon*3.14\n",
    "x= Circle(4)\n",
    "print(x.area())\n",
    "print(x.perimeter())"
   ]
  },
  {
   "cell_type": "code",
   "execution_count": 143,
   "id": "1eed094d",
   "metadata": {},
   "outputs": [
    {
     "name": "stdout",
     "output_type": "stream",
     "text": [
      "account=300\n",
      "deposit=500 withdraw=200\n"
     ]
    }
   ],
   "source": [
    "class bank_account:\n",
    "    def __init__(self, deposit, withdraw ):\n",
    "        self.deposit=deposit\n",
    "        self.withdraw=withdraw\n",
    "    def __bank_account__(self):\n",
    "            return \"deposit={} withdraw={}\" .format(self.deposit, self.withdraw)\n",
    "    def rara(self):\n",
    "            return \"account={}\"               .format(self.deposit-self.withdraw)\n",
    "my_account=bank_account(500,200)\n",
    "print(my_account.rara())\n",
    "print(my_account.__bank_account__())"
   ]
  },
  {
   "cell_type": "code",
   "execution_count": null,
   "id": "c0145440",
   "metadata": {},
   "outputs": [],
   "source": []
  },
  {
   "cell_type": "code",
   "execution_count": null,
   "id": "422dbc86",
   "metadata": {},
   "outputs": [],
   "source": []
  }
 ],
 "metadata": {
  "kernelspec": {
   "display_name": "Python 3",
   "language": "python",
   "name": "python3"
  },
  "language_info": {
   "codemirror_mode": {
    "name": "ipython",
    "version": 3
   },
   "file_extension": ".py",
   "mimetype": "text/x-python",
   "name": "python",
   "nbconvert_exporter": "python",
   "pygments_lexer": "ipython3",
   "version": "3.8.8"
  }
 },
 "nbformat": 4,
 "nbformat_minor": 5
}
