{
  "nbformat": 4,
  "nbformat_minor": 0,
  "metadata": {
    "colab": {
      "name": "step 2 (flames game).ipynb",
      "provenance": [],
      "collapsed_sections": []
    },
    "kernelspec": {
      "name": "python3",
      "display_name": "Python 3"
    },
    "language_info": {
      "name": "python"
    }
  },
  "cells": [
    {
      "cell_type": "code",
      "metadata": {
        "id": "ZmPaLkFDiQLA",
        "outputId": "35de37cb-ae5a-44a5-a986-01c8e1acf2f3",
        "colab": {
          "base_uri": "https://localhost:8080/"
        }
      },
      "source": [
        "# function for removing common characters\n",
        "# with their respective occurrences\n",
        "def remove_match_char(list1, list2):\n",
        "\n",
        "\tfor i in range(len(list1)) :\n",
        "\t\tfor j in range(len(list2)) :\n",
        "\n",
        "\t\t\t# if common character is found\n",
        "\t\t\t# then remove that character\n",
        "\t\t\t# and return list of concatenated\n",
        "\t\t\t# list with True Flag\n",
        "\t\t\tif list1[i] == list2[j] :\n",
        "\t\t\t\tc = list1[i]\n",
        "\n",
        "\t\t\t\t# remove character from the list\n",
        "\t\t\t\tlist1.remove(c)\n",
        "\t\t\t\tlist2.remove(c)\n",
        "\n",
        "\t\t\t\t# concatenation of two list elements with *\n",
        "\t\t\t\t# * is act as border mark here\n",
        "\t\t\t\tlist3 = list1 + [\"*\"] + list2\n",
        "\n",
        "\t\t\t\t# return the concatenated list with True flag\n",
        "\t\t\t\treturn [list3, True]\n",
        "\n",
        "\t# no common characters is found\n",
        "\t# return the concatenated list with False flag\n",
        "\tlist3 = list1 + [\"*\"] + list2\n",
        "\treturn [list3, False]\n",
        "\n",
        "# Driver code\n",
        "if __name__ == \"__main__\" :\n",
        "\t\n",
        "\t# take first name\n",
        "\tp1 = input(\"Player 1 name : \")\n",
        "\n",
        "\t# converted all letters into lower case\n",
        "\tp1 = p1.lower()\n",
        "\n",
        "\t# replace any space with empty string\n",
        "\tp1.replace(\" \", \"\")\n",
        "\n",
        "\t# make a list of letters or characters\n",
        "\tp1_list = list(p1)\n",
        "\n",
        "\t# take 2nd name\n",
        "\tp2 = input(\"Player 2 name : \")\n",
        "\tp2 = p2.lower()\n",
        "\tp2.replace(\" \", \"\")\n",
        "\tp2_list = list(p2)\n",
        "\n",
        "\t# taking a flag as True initially\n",
        "\tproceed = True\n",
        "\t\n",
        "\t# keep calling remove_match_char function\n",
        "\t# until common characters is found or\n",
        "\t# keep looping until proceed flag is True\n",
        "\twhile proceed :\n",
        "\n",
        "\t\t# function calling and store return value\n",
        "\t\tret_list = remove_match_char(p1_list, p2_list)\n",
        "\n",
        "\t\t# take out concatenated list from return list\n",
        "\t\tcon_list = ret_list[0]\n",
        "\n",
        "\t\t# take out flag value from return list\n",
        "\t\tproceed = ret_list[1]\n",
        "\n",
        "\t\t# find the index of \"*\" / border mark\n",
        "\t\tstar_index = con_list.index(\"*\")\n",
        "\n",
        "\t\t# list slicing perform\n",
        "\t\t\n",
        "\t\t# all characters before * store in p1_list\n",
        "\t\tp1_list = con_list[ : star_index]\n",
        "\n",
        "\t\t# all characters after * store in p2_list\n",
        "\t\tp2_list = con_list[star_index + 1 : ]\n",
        "\n",
        "\n",
        "\t# count total remaining characters\n",
        "\tcount = len(p1_list) + len(p2_list)\n",
        "\n",
        "\t# list of FLAMES acronym\n",
        "\tresult = [\"Friends\", \"Love\", \"Affection\", \"Marriage\", \"Enemy\", \"Siblings\"]\n",
        "\n",
        "\t# keep looping until only one item\n",
        "\t# is not remaining in the result list\n",
        "\twhile len(result) > 1 :\n",
        "\n",
        "\t\t# store that index value from\n",
        "\t\t# where we have to perform slicing.\n",
        "\t\tsplit_index = (count % len(result) - 1)\n",
        "\n",
        "\t\t# this steps is done for performing\n",
        "\t\t# anticlock-wise circular fashion counting.\n",
        "\t\tif split_index >= 0 :\n",
        "\n",
        "\t\t\t# list slicing\n",
        "\t\t\tright = result[split_index + 1 : ]\n",
        "\t\t\tleft = result[ : split_index]\n",
        "\n",
        "\t\t\t# list concatenation\n",
        "\t\t\tresult = right + left\n",
        "\n",
        "\t\telse :\n",
        "\t\t\tresult = result[ : len(result) - 1]\n",
        "\n",
        "\t# print final result\n",
        "\tprint(\"Relationship status :\", result[0])"
      ],
      "execution_count": 9,
      "outputs": [
        {
          "output_type": "stream",
          "text": [
            "Player 1 name : yassine\n",
            "Player 2 name : 15224\n",
            "Relationship status : Affection\n"
          ],
          "name": "stdout"
        }
      ]
    },
    {
      "cell_type": "code",
      "metadata": {
        "id": "qHuhVYU3lgPG"
      },
      "source": [
        "cec"
      ],
      "execution_count": null,
      "outputs": []
    }
  ]
}