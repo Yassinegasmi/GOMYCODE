{
 "cells": [
  {
   "cell_type": "code",
   "execution_count": 1,
   "id": "2689c240",
   "metadata": {},
   "outputs": [
    {
     "data": {
      "text/plain": [
       "[[11, 21], [31, 41]]"
      ]
     },
     "execution_count": 1,
     "metadata": {},
     "output_type": "execute_result"
    }
   ],
   "source": [
    "import numpy as np  \n",
    "a = np.array([[11, 21], [31, 41]])  \n",
    "b=a.tolist()    \n",
    "b  "
   ]
  },
  {
   "cell_type": "code",
   "execution_count": null,
   "id": "fd7260b8",
   "metadata": {},
   "outputs": [],
   "source": [
    "import numpy as np\n",
    "x= np.array([[1, 25, 15], [30, 3, 2], [11, 45, 2]])\n",
    "print(\" the  elements:\",x)\n",
    "trace = np.trace(x)\n",
    "print(\" the sum of the diagonal elements:\")\n",
    "print(trace)"
   ]
  },
  {
   "cell_type": "code",
   "execution_count": 44,
   "id": "cb06e1d4",
   "metadata": {},
   "outputs": [
    {
     "name": "stdout",
     "output_type": "stream",
     "text": [
      " the  elements: [[1 2]\n",
      " [3 5]]\n",
      "x=3\n",
      "3 and 5 are higher than 2.\n"
     ]
    }
   ],
   "source": [
    "import numpy as np\n",
    "a= np.array([[1, 2], [3, 5]])\n",
    "print(\" the  elements:\",a)\n",
    "x=int(input(\"x=\"))\n",
    "if x==3:\n",
    "    print(\"3 and 5 are higher than 2.\")\n",
    "else:\n",
    "    print(\"error\")"
   ]
  },
  {
   "cell_type": "code",
   "execution_count": 85,
   "id": "595f69c8",
   "metadata": {},
   "outputs": [
    {
     "name": "stdout",
     "output_type": "stream",
     "text": [
      "(array([10, 11]), array([12, 13]))\n"
     ]
    }
   ],
   "source": [
    "import numpy as np\n",
    "a = np.array([[1, 2], [3, 5]])\n",
    "b = np.array([[9, 9], [9, 8]])\n",
    "for d in (d1,d2):\n",
    "    c=b[0]+a[0],b[1]+a[1]\n",
    "print(c) "
   ]
  },
  {
   "cell_type": "code",
   "execution_count": 5,
   "id": "7cb48ac9",
   "metadata": {},
   "outputs": [
    {
     "name": "stdout",
     "output_type": "stream",
     "text": [
      "1.5\n"
     ]
    }
   ],
   "source": [
    "import numpy\n",
    "\n",
    "x = [1,2]\n",
    "\n",
    "x = numpy.mean(x)\n",
    "\n",
    "print(x)\n"
   ]
  },
  {
   "cell_type": "code",
   "execution_count": null,
   "id": "70f0284c",
   "metadata": {},
   "outputs": [],
   "source": []
  }
 ],
 "metadata": {
  "kernelspec": {
   "display_name": "Python 3",
   "language": "python",
   "name": "python3"
  },
  "language_info": {
   "codemirror_mode": {
    "name": "ipython",
    "version": 3
   },
   "file_extension": ".py",
   "mimetype": "text/x-python",
   "name": "python",
   "nbconvert_exporter": "python",
   "pygments_lexer": "ipython3",
   "version": "3.8.8"
  }
 },
 "nbformat": 4,
 "nbformat_minor": 5
}
