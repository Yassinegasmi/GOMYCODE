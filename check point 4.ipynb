{
 "cells": [
  {
   "cell_type": "code",
   "execution_count": 88,
   "id": "dba9fb03",
   "metadata": {},
   "outputs": [
    {
     "name": "stdout",
     "output_type": "stream",
     "text": [
      "x=13\n",
      "y=2\n",
      "z=5\n",
      "13\n",
      "None\n"
     ]
    }
   ],
   "source": [
    "x=int(input(\"x=\"))\n",
    "y=int(input(\"y=\"))\n",
    "z=int(input(\"z=\"))\n",
    "def maximum(a,b,c):\n",
    "    if a>b and c:\n",
    "       print(a)\n",
    "    elif b>a and c:\n",
    "        return(b)\n",
    "    else:\n",
    "       print(c)\n",
    "max = maximum(x,y,z)\n",
    "print(max)"
   ]
  },
  {
   "cell_type": "code",
   "execution_count": 113,
   "id": "08630aa4",
   "metadata": {},
   "outputs": [
    {
     "name": "stdout",
     "output_type": "stream",
     "text": [
      "a=20\n",
      "b=10\n",
      "( 20 , 10 )\n",
      "( 10 , 30 )\n"
     ]
    }
   ],
   "source": [
    "a=int(input(\"a=\"))\n",
    "b=int(input(\"b=\"))\n",
    "print(\"(\",a,\",\",b,\")\")\n",
    "x=a-b\n",
    "y=a+b\n",
    "print(\"(\",x,\",\",y,\")\")"
   ]
  },
  {
   "cell_type": "code",
   "execution_count": 290,
   "id": "cf9f2ded",
   "metadata": {},
   "outputs": [
    {
     "data": {
      "text/plain": [
       "10"
      ]
     },
     "execution_count": 290,
     "metadata": {},
     "output_type": "execute_result"
    }
   ],
   "source": [
    "def addition(liste):\n",
    "    n=0\n",
    "    for i in range(len(liste)):\n",
    "        n=n+liste[i]\n",
    "    return n\n",
    "\n",
    "yassine=[1,2,3,4]\n",
    "addition(yassine)"
   ]
  },
  {
   "cell_type": "code",
   "execution_count": 291,
   "id": "7c2a5f89",
   "metadata": {
    "scrolled": true
   },
   "outputs": [
    {
     "data": {
      "text/plain": [
       "0"
      ]
     },
     "execution_count": 291,
     "metadata": {},
     "output_type": "execute_result"
    }
   ],
   "source": [
    "def multiply(liste):\n",
    "    n=0\n",
    "    for i in range(len(liste)):\n",
    "        n=n*liste[i]\n",
    "    return n\n",
    "\n",
    "yassine=[1,2,3,4]\n",
    "multiply(yassine)"
   ]
  },
  {
   "cell_type": "code",
   "execution_count": 306,
   "id": "9c38be10",
   "metadata": {
    "scrolled": true
   },
   "outputs": [
    {
     "name": "stdout",
     "output_type": "stream",
     "text": [
      "green-red-yellow-black-white\n",
      "black-green-red-white-yellow\n"
     ]
    }
   ],
   "source": [
    "i=[n for n in input().split('-')]\n",
    "i.sort()\n",
    "print('-'.join(i))"
   ]
  },
  {
   "cell_type": "code",
   "execution_count": null,
   "id": "1a62f70c",
   "metadata": {
    "scrolled": true
   },
   "outputs": [],
   "source": []
  },
  {
   "cell_type": "code",
   "execution_count": 357,
   "id": "8239f15b",
   "metadata": {},
   "outputs": [
    {
     "name": "stdout",
     "output_type": "stream",
     "text": [
      "x=25\n",
      "5.0\n"
     ]
    }
   ],
   "source": [
    "import math\n",
    "x=int(input(\"x=\"))\n",
    "print(math.sqrt(x))"
   ]
  },
  {
   "cell_type": "code",
   "execution_count": 383,
   "id": "c70c21a6",
   "metadata": {},
   "outputs": [
    {
     "name": "stdout",
     "output_type": "stream",
     "text": [
      "d=121\n",
      "20\n"
     ]
    }
   ],
   "source": [
    "import math\n",
    "d=int(input(\"d=\"))\n",
    "c=50\n",
    "h=30\n",
    "x=2*c*d\n",
    "y=x/h\n",
    "print(round(math.sqrt(y)))"
   ]
  },
  {
   "cell_type": "code",
   "execution_count": null,
   "id": "4089f18c",
   "metadata": {},
   "outputs": [],
   "source": []
  },
  {
   "cell_type": "code",
   "execution_count": null,
   "id": "dd2d6298",
   "metadata": {},
   "outputs": [],
   "source": []
  },
  {
   "cell_type": "code",
   "execution_count": null,
   "id": "4c0e430d",
   "metadata": {},
   "outputs": [],
   "source": []
  },
  {
   "cell_type": "code",
   "execution_count": null,
   "id": "2ae77768",
   "metadata": {},
   "outputs": [],
   "source": []
  },
  {
   "cell_type": "code",
   "execution_count": null,
   "id": "55b239ef",
   "metadata": {},
   "outputs": [],
   "source": []
  },
  {
   "cell_type": "code",
   "execution_count": null,
   "id": "2e087095",
   "metadata": {
    "scrolled": true
   },
   "outputs": [],
   "source": []
  },
  {
   "cell_type": "code",
   "execution_count": null,
   "id": "45a5833a",
   "metadata": {
    "scrolled": true
   },
   "outputs": [],
   "source": []
  },
  {
   "cell_type": "code",
   "execution_count": 198,
   "id": "790eec11",
   "metadata": {},
   "outputs": [],
   "source": []
  },
  {
   "cell_type": "code",
   "execution_count": null,
   "id": "600ba522",
   "metadata": {},
   "outputs": [],
   "source": []
  },
  {
   "cell_type": "code",
   "execution_count": null,
   "id": "3bb7e254",
   "metadata": {},
   "outputs": [],
   "source": []
  },
  {
   "cell_type": "code",
   "execution_count": null,
   "id": "d323f49e",
   "metadata": {},
   "outputs": [],
   "source": []
  },
  {
   "cell_type": "code",
   "execution_count": null,
   "id": "e2445a78",
   "metadata": {},
   "outputs": [],
   "source": []
  },
  {
   "cell_type": "code",
   "execution_count": null,
   "id": "5c0c7b90",
   "metadata": {},
   "outputs": [],
   "source": []
  }
 ],
 "metadata": {
  "kernelspec": {
   "display_name": "Python 3",
   "language": "python",
   "name": "python3"
  },
  "language_info": {
   "codemirror_mode": {
    "name": "ipython",
    "version": 3
   },
   "file_extension": ".py",
   "mimetype": "text/x-python",
   "name": "python",
   "nbconvert_exporter": "python",
   "pygments_lexer": "ipython3",
   "version": "3.8.8"
  }
 },
 "nbformat": 4,
 "nbformat_minor": 5
}
